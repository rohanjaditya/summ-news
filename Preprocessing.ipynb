{
 "cells": [
  {
   "cell_type": "code",
   "execution_count": 23,
   "id": "2ed08d7c",
   "metadata": {},
   "outputs": [],
   "source": [
    "import numpy as np\n",
    "import pandas as pd\n",
    "import re\n",
    "import contractions\n",
    "import bs4\n",
    "from nltk.corpus import stopwords\n",
    "import time\n",
    "\n",
    "import warnings\n",
    "warnings.filterwarnings(\"ignore\")"
   ]
  },
  {
   "cell_type": "code",
   "execution_count": 2,
   "id": "2002f2e7",
   "metadata": {},
   "outputs": [],
   "source": [
    "df = pd.read_csv(\"data.csv\")"
   ]
  },
  {
   "cell_type": "code",
   "execution_count": 3,
   "id": "aa18a6b4",
   "metadata": {},
   "outputs": [],
   "source": [
    "df = df[['Content', 'Summary', 'Dataset']]"
   ]
  },
  {
   "cell_type": "code",
   "execution_count": 4,
   "id": "8bf00b6d",
   "metadata": {},
   "outputs": [],
   "source": [
    "df = df.dropna().reset_index(drop=True).reset_index(drop=True)"
   ]
  },
  {
   "cell_type": "code",
   "execution_count": 5,
   "id": "b495503b",
   "metadata": {},
   "outputs": [],
   "source": [
    "df = df.drop_duplicates(subset=['Content']).reset_index(drop=True)"
   ]
  },
  {
   "cell_type": "code",
   "execution_count": 6,
   "id": "9335e7d9",
   "metadata": {},
   "outputs": [
    {
     "data": {
      "text/html": [
       "<div>\n",
       "<style scoped>\n",
       "    .dataframe tbody tr th:only-of-type {\n",
       "        vertical-align: middle;\n",
       "    }\n",
       "\n",
       "    .dataframe tbody tr th {\n",
       "        vertical-align: top;\n",
       "    }\n",
       "\n",
       "    .dataframe thead th {\n",
       "        text-align: right;\n",
       "    }\n",
       "</style>\n",
       "<table border=\"1\" class=\"dataframe\">\n",
       "  <thead>\n",
       "    <tr style=\"text-align: right;\">\n",
       "      <th></th>\n",
       "      <th>Content</th>\n",
       "      <th>Summary</th>\n",
       "      <th>Dataset</th>\n",
       "    </tr>\n",
       "  </thead>\n",
       "  <tbody>\n",
       "    <tr>\n",
       "      <th>0</th>\n",
       "      <td>New York police are concerned drones could bec...</td>\n",
       "      <td>Police have investigated criminals who have ri...</td>\n",
       "      <td>CNN/Daily Mail</td>\n",
       "    </tr>\n",
       "    <tr>\n",
       "      <th>1</th>\n",
       "      <td>By . Ryan Lipman . Perhaps Australian porn sta...</td>\n",
       "      <td>Porn star Angela White secretly filmed sex act...</td>\n",
       "      <td>CNN/Daily Mail</td>\n",
       "    </tr>\n",
       "    <tr>\n",
       "      <th>2</th>\n",
       "      <td>This was, Sergio Garcia conceded, much like be...</td>\n",
       "      <td>American draws inspiration from fellow country...</td>\n",
       "      <td>CNN/Daily Mail</td>\n",
       "    </tr>\n",
       "    <tr>\n",
       "      <th>3</th>\n",
       "      <td>An Ebola outbreak that began in Guinea four mo...</td>\n",
       "      <td>World Health Organisation: 635 infections and ...</td>\n",
       "      <td>CNN/Daily Mail</td>\n",
       "    </tr>\n",
       "    <tr>\n",
       "      <th>4</th>\n",
       "      <td>By . Associated Press and Daily Mail Reporter ...</td>\n",
       "      <td>A sinkhole opened up at 5:15am this morning in...</td>\n",
       "      <td>CNN/Daily Mail</td>\n",
       "    </tr>\n",
       "    <tr>\n",
       "      <th>...</th>\n",
       "      <td>...</td>\n",
       "      <td>...</td>\n",
       "      <td>...</td>\n",
       "    </tr>\n",
       "    <tr>\n",
       "      <th>580008</th>\n",
       "      <td>Rabbis Mendel Epstein and Martin Wolmark asked...</td>\n",
       "      <td>Two New Jersey rabbis have been arrested and c...</td>\n",
       "      <td>XSum</td>\n",
       "    </tr>\n",
       "    <tr>\n",
       "      <th>580009</th>\n",
       "      <td>The Nigeria Football Federation (NFF) wants to...</td>\n",
       "      <td>Nigeria's players understand they will have to...</td>\n",
       "      <td>XSum</td>\n",
       "    </tr>\n",
       "    <tr>\n",
       "      <th>580010</th>\n",
       "      <td>His discouraging start, which began with two d...</td>\n",
       "      <td>Charlton earned their first victory of the sea...</td>\n",
       "      <td>XSum</td>\n",
       "    </tr>\n",
       "    <tr>\n",
       "      <th>580011</th>\n",
       "      <td>The first study of its kind in NI charts theft...</td>\n",
       "      <td>One in five older people in Northern Ireland i...</td>\n",
       "      <td>XSum</td>\n",
       "    </tr>\n",
       "    <tr>\n",
       "      <th>580012</th>\n",
       "      <td>A day after a 40-year-old man miraculously sur...</td>\n",
       "      <td>– Rescuers in Niagara Falls still haven't foun...</td>\n",
       "      <td>Multi-News</td>\n",
       "    </tr>\n",
       "  </tbody>\n",
       "</table>\n",
       "<p>580013 rows × 3 columns</p>\n",
       "</div>"
      ],
      "text/plain": [
       "                                                  Content  \\\n",
       "0       New York police are concerned drones could bec...   \n",
       "1       By . Ryan Lipman . Perhaps Australian porn sta...   \n",
       "2       This was, Sergio Garcia conceded, much like be...   \n",
       "3       An Ebola outbreak that began in Guinea four mo...   \n",
       "4       By . Associated Press and Daily Mail Reporter ...   \n",
       "...                                                   ...   \n",
       "580008  Rabbis Mendel Epstein and Martin Wolmark asked...   \n",
       "580009  The Nigeria Football Federation (NFF) wants to...   \n",
       "580010  His discouraging start, which began with two d...   \n",
       "580011  The first study of its kind in NI charts theft...   \n",
       "580012  A day after a 40-year-old man miraculously sur...   \n",
       "\n",
       "                                                  Summary         Dataset  \n",
       "0       Police have investigated criminals who have ri...  CNN/Daily Mail  \n",
       "1       Porn star Angela White secretly filmed sex act...  CNN/Daily Mail  \n",
       "2       American draws inspiration from fellow country...  CNN/Daily Mail  \n",
       "3       World Health Organisation: 635 infections and ...  CNN/Daily Mail  \n",
       "4       A sinkhole opened up at 5:15am this morning in...  CNN/Daily Mail  \n",
       "...                                                   ...             ...  \n",
       "580008  Two New Jersey rabbis have been arrested and c...            XSum  \n",
       "580009  Nigeria's players understand they will have to...            XSum  \n",
       "580010  Charlton earned their first victory of the sea...            XSum  \n",
       "580011  One in five older people in Northern Ireland i...            XSum  \n",
       "580012  – Rescuers in Niagara Falls still haven't foun...      Multi-News  \n",
       "\n",
       "[580013 rows x 3 columns]"
      ]
     },
     "execution_count": 6,
     "metadata": {},
     "output_type": "execute_result"
    }
   ],
   "source": [
    "df"
   ]
  },
  {
   "cell_type": "code",
   "execution_count": 7,
   "id": "06fc716e",
   "metadata": {},
   "outputs": [],
   "source": [
    "soup = bs4.BeautifulSoup"
   ]
  },
  {
   "cell_type": "code",
   "execution_count": 8,
   "id": "32e3e22f",
   "metadata": {},
   "outputs": [],
   "source": [
    "stop_words = stopwords.words(\"english\")"
   ]
  },
  {
   "cell_type": "code",
   "execution_count": 9,
   "id": "24152cf3",
   "metadata": {},
   "outputs": [],
   "source": [
    "def text_preprocess(text_list):\n",
    "    \n",
    "    # Expand contractions\n",
    "    text_list = [contractions.fix(sentence) for sentence in text_list]\n",
    "    # Remove HTML tags\n",
    "    text_list = [soup(sentence, \"html.parser\").get_text() for sentence in text_list]\n",
    "    # Keep only alphabet characters and whitespaces\n",
    "    text_list = [re.sub(r\"[^a-zA-Z\\s]\", \" \", sentence).lower() for sentence in text_list]\n",
    "    # Remove \\n\n",
    "    text_list = [re.sub(r\"\\n\", \"\", sentence) for sentence in text_list]\n",
    "    # Remove extra whitespaces\n",
    "    text_list = [re.sub(\" +\", \" \", sentence) for sentence in text_list]\n",
    "    # Remove stop words and short words\n",
    "    text_list = [[word for word in sentence.split() if not word in stop_words and len(word)>=3] \n",
    "                 for sentence in text_list]\n",
    "    text_list = [\" \".join(sentence) for sentence in text_list]\n",
    "    return text_list"
   ]
  },
  {
   "cell_type": "code",
   "execution_count": 10,
   "id": "ae053297",
   "metadata": {},
   "outputs": [
    {
     "name": "stdout",
     "output_type": "stream",
     "text": [
      "Time taken: 0 h 15 min 26.38 s\n"
     ]
    }
   ],
   "source": [
    "st = time.time()\n",
    "\n",
    "ls = text_preprocess(df['Content'])\n",
    "\n",
    "et = time.time()\n",
    "print(\"Time taken: {:d} h {:d} min {:.2f} s\".format(int((et - st)/3600), int(((et - st)%3600)/60), ((et - st)%3600)%60))"
   ]
  },
  {
   "cell_type": "code",
   "execution_count": 24,
   "id": "d212b21d",
   "metadata": {},
   "outputs": [
    {
     "name": "stdout",
     "output_type": "stream",
     "text": [
      "Time taken: 0 h 1 min 19.35 s\n"
     ]
    }
   ],
   "source": [
    "st = time.time()\n",
    "\n",
    "s = text_preprocess(df['Summary'])\n",
    "\n",
    "et = time.time()\n",
    "print(\"Time taken: {:d} h {:d} min {:.2f} s\".format(int((et - st)/3600), int(((et - st)%3600)/60), ((et - st)%3600)%60))"
   ]
  },
  {
   "cell_type": "code",
   "execution_count": 26,
   "id": "065079c3",
   "metadata": {},
   "outputs": [
    {
     "data": {
      "text/html": [
       "<div>\n",
       "<style scoped>\n",
       "    .dataframe tbody tr th:only-of-type {\n",
       "        vertical-align: middle;\n",
       "    }\n",
       "\n",
       "    .dataframe tbody tr th {\n",
       "        vertical-align: top;\n",
       "    }\n",
       "\n",
       "    .dataframe thead th {\n",
       "        text-align: right;\n",
       "    }\n",
       "</style>\n",
       "<table border=\"1\" class=\"dataframe\">\n",
       "  <thead>\n",
       "    <tr style=\"text-align: right;\">\n",
       "      <th></th>\n",
       "      <th>Content</th>\n",
       "      <th>Summary</th>\n",
       "    </tr>\n",
       "  </thead>\n",
       "  <tbody>\n",
       "    <tr>\n",
       "      <th>580008</th>\n",
       "      <td>rabbis mendel epstein martin wolmark asked hir...</td>\n",
       "      <td>two new jersey rabbis arrested charged plottin...</td>\n",
       "    </tr>\n",
       "    <tr>\n",
       "      <th>580009</th>\n",
       "      <td>nigeria football federation nff wants avoid di...</td>\n",
       "      <td>nigeria players understand wait paid outstandi...</td>\n",
       "    </tr>\n",
       "    <tr>\n",
       "      <th>580010</th>\n",
       "      <td>discouraging start began two defeats draw conc...</td>\n",
       "      <td>charlton earned first victory season first new...</td>\n",
       "    </tr>\n",
       "    <tr>\n",
       "      <th>580011</th>\n",
       "      <td>first study kind charts theft fraud misuse mon...</td>\n",
       "      <td>one five older people northern ireland affecte...</td>\n",
       "    </tr>\n",
       "    <tr>\n",
       "      <th>580012</th>\n",
       "      <td>day year old man miraculously survived suicide...</td>\n",
       "      <td>rescuers niagara falls still found body man ju...</td>\n",
       "    </tr>\n",
       "  </tbody>\n",
       "</table>\n",
       "</div>"
      ],
      "text/plain": [
       "                                                  Content  \\\n",
       "580008  rabbis mendel epstein martin wolmark asked hir...   \n",
       "580009  nigeria football federation nff wants avoid di...   \n",
       "580010  discouraging start began two defeats draw conc...   \n",
       "580011  first study kind charts theft fraud misuse mon...   \n",
       "580012  day year old man miraculously survived suicide...   \n",
       "\n",
       "                                                  Summary  \n",
       "580008  two new jersey rabbis arrested charged plottin...  \n",
       "580009  nigeria players understand wait paid outstandi...  \n",
       "580010  charlton earned first victory season first new...  \n",
       "580011  one five older people northern ireland affecte...  \n",
       "580012  rescuers niagara falls still found body man ju...  "
      ]
     },
     "execution_count": 26,
     "metadata": {},
     "output_type": "execute_result"
    }
   ],
   "source": [
    "df_clean = pd.DataFrame({'Content':ls, 'Summary':s})\n",
    "df_clean.tail()"
   ]
  }
 ],
 "metadata": {
  "kernelspec": {
   "display_name": "Python 3 (ipykernel)",
   "language": "python",
   "name": "python3"
  },
  "language_info": {
   "codemirror_mode": {
    "name": "ipython",
    "version": 3
   },
   "file_extension": ".py",
   "mimetype": "text/x-python",
   "name": "python",
   "nbconvert_exporter": "python",
   "pygments_lexer": "ipython3",
   "version": "3.9.12"
  }
 },
 "nbformat": 4,
 "nbformat_minor": 5
}
